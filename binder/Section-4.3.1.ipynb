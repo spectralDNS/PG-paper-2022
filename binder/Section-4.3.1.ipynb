{
 "cells": [
  {
   "cell_type": "markdown",
   "id": "58f86de6",
   "metadata": {},
   "source": [
    "# Examples from paper\n",
    "\n",
    "In this notebook we will use [shenfun](https://github.com/spectralDNS/shenfun) to solve the example problems from the paper\n",
    "\n",
    "    M Mortensen, \"A generic and strictly banded spectral Petrov-Galerkin method for differential equations with polynomial coefficients\"\n",
    "\n",
    "For the solution we will use generic orthogonal polynomials $Q_n(x)$ defined as \n",
    "\n",
    "\\begin{equation}\n",
    "Q_n(x) = g_n^{(\\alpha,\\beta)} P^{(\\alpha,\\beta)}_n(x),\n",
    "\\end{equation}\n",
    "\n",
    "where $P^{(\\alpha,\\beta)}_n$ is the regular $n$'th [Jacobi polynomial](https://en.wikipedia.org/wiki/Jacobi_polynomials) with parameters $\\alpha, \\beta$ both $ >-1$. \n",
    "\n",
    "For ultraspherical polynomials we write\n",
    "\n",
    "\\begin{equation}\n",
    "Q^{(\\alpha)}_n(x) = g_n^{(\\alpha, \\alpha)} P^{(\\alpha,\\alpha)}_n(x), \\label{eq:ultra}\n",
    "\\end{equation}\n",
    "\n",
    "when the scaling function $g_n^{(\\alpha,\\alpha)} = 1/P^{(\\alpha,\\alpha)}_n(1)$. This covers Chebyshev polynomials of first kind $T_n$ and Legendre polynomials $L_n$\n",
    "\n",
    "\\begin{align}\n",
    "T_n(x) &= Q^{(-1/2)}_n, \\\\\n",
    "L_n(x) &= Q^{(0)}_n,\n",
    "\\end{align}\n",
    "\n",
    "but not Chebyshev polynomials of second kind $U_n$. For $U_n$ the scaling function is $g_n^{(1/2,1/2)}=(n+1)/P^{(1/2,1/2)}_n(1)$ such that\n",
    "\n",
    "\\begin{equation}\n",
    "U_n(x) = (n+1)Q^{(1/2)}_n\n",
    "\\end{equation}\n",
    "\n",
    "In what follows we use $Q_n$ to represent either one of $T_n, L_n, U_n$ or $Q^{(\\alpha)}_n$. However, in the paper we restrict the attention in the worked examples to the ultraspherical polynomials with scaling as $1/P^{(\\alpha,\\alpha)}_n(1)$. This is done because the different scaling requires different stencil matrices for the trial functions.\n",
    "\n",
    "For any family of orthogonal polynomials we will make use of a test function $\\phi^{(k)}_n$ defined for integer $k$ as\n",
    "\n",
    "$$\n",
    "\\phi^{(k)}_n = \\frac{(1-x^2)^k}{h^{(k)}_{n+k}} \\frac{d^k Q_{n+k}}{dx^k},\n",
    "$$\n",
    "\n",
    "where\n",
    "\n",
    "$$\n",
    "h^{(k)}_{n+k} = \\int_{-1}^1 \\left(\\frac{d^k Q_{n+k}}{dx^k}\\right)^k \\omega^{\\alpha+k} dx,\n",
    "$$\n",
    "\n",
    "and the weight $\\omega^{\\alpha}=(1-x^2)^{\\alpha}$.\n"
   ]
  },
  {
   "cell_type": "markdown",
   "id": "315d5881",
   "metadata": {},
   "source": [
    "# Section-4.3.1\n",
    "\n",
    "We consider the first order problem\n",
    "\n",
    "\\begin{equation}\n",
    "    u'(x)+\\frac{1}{ax^2+1}u(x)=s(x), \\quad u(-1) = b, \\quad x \\in [-1, 1], \\label{eq:firstproblem}\n",
    "\\end{equation}\n",
    "\n",
    "For this first order problem we use the trial space $\\text{S}_N=\\text{span}\\{\\psi_n\\}_{n=0}^{N-1}$ with basis function $\\psi_n=Q^{(\\alpha)}_n+Q^{(\\alpha)}_{n+1}$, corresponding to a stencil matrix $K=(\\delta_{mn}+\\delta_{m+1,n})_{m=0,n=0}^{N-1, N} \\in \\mathbb{R}^{N\\times N+1}$. Next, we multiply through with $ax^2+1$ to get only polynomial coefficients, and attempt to find $u\\in \\text{S}^{(1)}_N$ such that\n",
    "\n",
    "\\begin{equation}\n",
    "    ((ax^2+1) u', v)_{\\omega} + (u, v)_{\\omega} = (f, v)_{\\omega}, \\quad \\forall v \\in \\text{V}^{(1)}_{N+1} = \\text{span}\\{\\phi^{(1)}_n\\}_{n=0}^{N-1},\n",
    "\\end{equation}\n",
    "\n",
    "where $f(x) = (ax^2+1) s(x)$. \n",
    "\n",
    "Note that for Chebyshev polynomials of the second kind (that are not used in the paper) the trial functions will be slightly different due to boundary conditions: $\\psi_n=U_n-\\frac{n+1}{n+3}U_{n+2}$.\n",
    "\n",
    "If $b\\ne 0$, then an additional basis function is used for the trial space\n",
    "\n",
    "\\begin{equation}\n",
    "\\psi_{N} = Q^{(\\alpha)}_0 = 1. \\label{eq:bnd}\n",
    "\\end{equation}\n",
    "\n",
    "This additional basis function will not affect the coefficient matrix of the system.\n"
   ]
  },
  {
   "cell_type": "markdown",
   "id": "1373cf06",
   "metadata": {},
   "source": [
    "We start by importing functionality from shenfun and [sympy](www.sympy.org)"
   ]
  },
  {
   "cell_type": "code",
   "execution_count": 1,
   "id": "2aacc5f8",
   "metadata": {},
   "outputs": [],
   "source": [
    "import sympy as sp\n",
    "from shenfun import *"
   ]
  },
  {
   "cell_type": "markdown",
   "id": "5f1e4a81",
   "metadata": {},
   "source": [
    "Define the manufactured solution $u(x)=\\exp(-0.25x^4)(x+1)$, which satisfies $u(-1)=0$."
   ]
  },
  {
   "cell_type": "code",
   "execution_count": 2,
   "id": "ddb3ef49",
   "metadata": {},
   "outputs": [],
   "source": [
    "x = sp.Symbol('x', real=True)\n",
    "ue = sp.exp(-x**4/4)*(x+1)"
   ]
  },
  {
   "cell_type": "markdown",
   "id": "a68821ad",
   "metadata": {},
   "source": [
    "<div class=\"alert alert-block alert-info\">\n",
    "Note that any function will do, but this one has a homogeneous boundary condition for `x=0`. If the solution does not have a homogeneous boundary condition, then the SN space below will add a basis function $\\psi_N = 1$ since `ue.subs(x, -1)` in the `SN` functionspace will evaluate to a nonzero number\n",
    "    \n",
    "    SN = FunctionSpace(N, family, bc=(ue.subs(x, -1), None))\n",
    "</div>\n",
    "\n",
    "\n",
    "Below we create a function `main` that will solve the problem using three differen techniques. Using `method=1` corresponds to a pure Petrov-Galerkin method, computing integrals with high precision. For `method=2` we restrict the right hand side function to the space $\\text{P}_{N+1}$, whereas in `method=3` we restrict to $\\text{P}_{N}$. "
   ]
  },
  {
   "cell_type": "code",
   "execution_count": 3,
   "id": "57511599",
   "metadata": {},
   "outputs": [],
   "source": [
    "def main(N, method=1, family='C', alpha=0.5, a=1, ue=None, returnmat=False, returnu=False):\n",
    "    \"\"\"Methods for solving Eq. (5)\n",
    "    \n",
    "    Parameters\n",
    "    ----------\n",
    "    N : integer\n",
    "        The number of quadrature points\n",
    "    method : number in (1, 2, 3), optional\n",
    "        The choice of method\n",
    "        - 1 pure Petrov Galerkin\n",
    "        - 2 Numerical - restrict f to $P_{N+1}$\n",
    "        - 3 Numerical - restrict f to $P_{N}$\n",
    "    family : str, optional\n",
    "        - Chebyshev\n",
    "        - Legendre\n",
    "        - Ultraspherical\n",
    "        - ChebyshevU\n",
    "    alpha : number > -1, optional\n",
    "        Parameter used only if family is Ultrasperical\n",
    "    a : number, optional\n",
    "        Parameter in Eq. (1)\n",
    "    ue : Sympy expression, optional\n",
    "        Exact solution\n",
    "    returnmat : boolean, optional\n",
    "        Whether to simply return the coefficient matrix without computing the error\n",
    "    returnu : boolean, optional\n",
    "        Whether to return the expansion coefficients without computing the error\n",
    "    \"\"\"\n",
    "    SN = FunctionSpace(N, family, bc=(ue.subs(x, -1), None), alpha=alpha)\n",
    "    VN = FunctionSpace(N+1, family, basis='Phi1', alpha=alpha)\n",
    "    u = TrialFunction(SN)\n",
    "    v = TestFunction(VN)\n",
    "    D = inner((a*x**2+1)*grad(u)+u, v)\n",
    "    if returnmat:\n",
    "        return np.sum(np.array(D, dtype=object))\n",
    "    sol = la.Solver(D)\n",
    "    u_hat = Function(SN)\n",
    "    X = SN.mesh()\n",
    "    ul = sp.lambdify(x, ue)\n",
    "    uq = Array(SN, buffer=np.array([ul(j) for j in X]))\n",
    "    fe = (a*x**2+1)*sp.diff(ue, x, 1) + ue\n",
    "    \n",
    "    # All methods use the same matrices. Only right hand side differs.\n",
    "    if method == 1:\n",
    "        f_hat = inner(v, fe, fixed_resolution=100) # Just some high enough number\n",
    "        u_hat = sol(f_hat, u_hat)\n",
    "    elif method == 2:\n",
    "        T = VN.get_orthogonal()      # T is in P_{N+1}\n",
    "        fN = Function(T, buffer=fe)  # get f in P_{N+1}\n",
    "        f_hat = inner(v, fN)\n",
    "        u_hat = sol(f_hat, u_hat)\n",
    "    elif method == 3: # quasi\n",
    "        T = SN.get_orthogonal()      # T is in P_N\n",
    "        fN = Function(T, buffer=fe).refine(N+1) # get f in P_N and pad one zero\n",
    "        f_hat = inner(v, fN)\n",
    "        u_hat = sol(f_hat, u_hat)\n",
    "\n",
    "    if returnu:\n",
    "        return u_hat\n",
    "    \n",
    "    uj = u_hat.backward()\n",
    "    error = np.sqrt(inner(1, (uj-uq)**2))\n",
    "    return error"
   ]
  },
  {
   "cell_type": "markdown",
   "id": "5b8dcadb",
   "metadata": {},
   "source": []
  },
  {
   "cell_type": "markdown",
   "id": "ed32c2eb",
   "metadata": {},
   "source": [
    "Finally, solve problem for a range of different quadrature points and plot the $L^2$ error. Below we use Chebyshev, but any ultraspherical polynomial will do. Just switch the family from 'C' below to either one of 'L', 'Q' or 'U'."
   ]
  },
  {
   "cell_type": "code",
   "execution_count": 4,
   "id": "2f06b84b",
   "metadata": {
    "scrolled": true
   },
   "outputs": [
    {
     "data": {
      "image/png": "[encoded data removed]",
      "text/plain": [
       "<Figure size 576x288 with 2 Axes>"
      ]
     },
     "metadata": {
      "needs_background": "light"
     },
     "output_type": "display_data"
    }
   ],
   "source": [
    "import matplotlib.pyplot as plt\n",
    "cols = ('k',)\n",
    "fig, ax = plt.subplots(1, 2, figsize=(8, 4))\n",
    "for c, fam in zip(cols, 'C'):\n",
    "    error = {}\n",
    "    M = np.arange(8, 40, 4)\n",
    "    for method in (1, 2, 3):\n",
    "        error[method] = []\n",
    "        for N in M:\n",
    "            error[method].append(main(N, method, fam, ue=ue))\n",
    "    ax[0].semilogy(M, error[1], '+', M, error[2], 'o', M, error[3], 's', fillstyle='none', color=c)\n",
    "ax[0].legend(['Petrov-Galerkin', '$f \\in {P}_{N+1}$', '$f \\in {P}_{N}$'])\n",
    "ax[0].set(xlabel='N', ylabel='$||u_N-u||$')\n",
    "ax[1].spy(main(20, 2, 'C', ue=ue, returnmat=True).diags(), markersize=5, mec='k', mfc='k', marker='o', aspect='auto')\n",
    "plt.show()\n"
   ]
  },
  {
   "cell_type": "markdown",
   "id": "ef5cd284",
   "metadata": {},
   "source": [
    "### Compute and plot condition numbers."
   ]
  },
  {
   "cell_type": "code",
   "execution_count": 5,
   "id": "af8452a9",
   "metadata": {
    "scrolled": true
   },
   "outputs": [
    {
     "data": {
      "image/png": "[encoded data removed]",
      "text/plain": [
       "<Figure size 576x288 with 1 Axes>"
      ]
     },
     "metadata": {
      "needs_background": "light"
     },
     "output_type": "display_data"
    }
   ],
   "source": [
    "fig, ax = plt.subplots(1, 1, figsize=(8, 4))\n",
    "cond = {}\n",
    "for fam in 'CL':\n",
    "    cond[fam] = []\n",
    "    M = np.arange(100, 1000, 100)\n",
    "    for N in M:\n",
    "        cond[fam].append(np.linalg.cond(main(N, 2, fam, ue=ue, returnmat=True).diags().toarray()))\n",
    "    ax.loglog(M, cond[fam])\n",
    "\n",
    "ax.loglog(M, M)\n",
    "ax.legend(['Chebyshev', 'Legendre', r'$\\mathcal{O}(N)$'])\n",
    "ax.set(xlabel='N', ylabel='Condition number')\n",
    "plt.show()\n"
   ]
  },
  {
   "cell_type": "markdown",
   "id": "1a1d20eb",
   "metadata": {},
   "source": [
    "Now use the manufactured solution from \n",
    "\n",
    "    Olver, Sheehan and Townsend, Alex, \"A Fast and Well-Conditioned Spectral Method\", SIAM Review, 55, 3, (2013), 10.1137/120865458\n",
    "   \n",
    "$$\n",
    "u(x) = \\exp(-\\frac{1}{\\sqrt{a}}\\left(\\tan^{-1} (\\sqrt{a} x) - \\tan^{-1} (\\sqrt{a}) \\right))\n",
    "$$\n",
    "\n",
    "where $a=5\\cdot 10^4$ is the parameter in Eq. (1). The boundary condition is $u(-1)=1$."
   ]
  },
  {
   "cell_type": "code",
   "execution_count": 6,
   "id": "fed7c51f",
   "metadata": {
    "scrolled": true
   },
   "outputs": [
    {
     "data": {
      "text/plain": [
       "[Text(0.5, 0, 'N'), Text(0, 0.5, '$||u_N-u||$')]"
      ]
     },
     "execution_count": 6,
     "metadata": {},
     "output_type": "execute_result"
    },
    {
     "data": {
      "image/png": "[encoded data removed]",
      "text/plain": [
       "<Figure size 432x288 with 1 Axes>"
      ]
     },
     "metadata": {
      "needs_background": "light"
     },
     "output_type": "display_data"
    }
   ],
   "source": [
    "fig, ax = plt.subplots(1, 1, figsize=(6, 4))\n",
    "error = {}\n",
    "ue = sp.exp(-(sp.atan(sp.sqrt(50000)*x) + sp.atan(sp.sqrt(50000)))/sp.sqrt(50000))\n",
    "M = np.arange(50, 10000, 500)\n",
    "for fam in 'CL':\n",
    "    error[fam] = []\n",
    "    for N in M:\n",
    "        error[fam].append(main(N, 2, fam, a=50000, ue=ue))\n",
    "ax.semilogy(M, error[fam], 'k--', M, error['C'], 'k:', fillstyle='none')\n",
    "ax.legend(['Chebyshev', 'Legendre'])\n",
    "ax.set(xlabel='N', ylabel='$||u_N-u||$')"
   ]
  }
 ],
 "metadata": {
  "interpreter": {
   "hash": "2d3529be33ec54cd1dcf2e3143fdc4163a30306025a36438eb3efc6eed6d6a90"
  },
  "kernelspec": {
   "display_name": "shenfun",
   "language": "python",
   "name": "shenfun"
  },
  "language_info": {
   "codemirror_mode": {
    "name": "ipython",
    "version": 3
   },
   "file_extension": ".py",
   "mimetype": "text/x-python",
   "name": "python",
   "nbconvert_exporter": "python",
   "pygments_lexer": "ipython3",
   "version": "3.10.2"
  },
  "toc": {
   "base_numbering": 1,
   "nav_menu": {},
   "number_sections": false,
   "sideBar": true,
   "skip_h1_title": false,
   "title_cell": "Table of Contents",
   "title_sidebar": "Contents",
   "toc_cell": false,
   "toc_position": {},
   "toc_section_display": true,
   "toc_window_display": false
  }
 },
 "nbformat": 4,
 "nbformat_minor": 5
}
