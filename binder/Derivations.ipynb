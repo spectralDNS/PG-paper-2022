{
 "cells": [
  {
   "cell_type": "markdown",
   "id": "de1dedb3",
   "metadata": {},
   "source": [
    "# Numerical evidence of Eq. (2.25)\n",
    "\n",
    "The Jacobi polynomials satisfy the recursion relation\n",
    "\n",
    "\\begin{equation}\n",
    "    %(1-x^2) \\partial^k \\boldsymbol{P} &= H_{[k]} B H_{[k-1]}^{+} \\partial^{k-1} \\boldsymbol{P}, \\label{eq:recurB0}\\\\\n",
    "    (1-x^2)^k \\partial^k \\boldsymbol{P} = (C^{(k)})^T  \\boldsymbol{P}, \\label{eq:recurB1}\n",
    "\\end{equation}\n",
    "\n",
    "where $(C^{(k)})^T = H^{(k)} B^k H^{-1}$ and $H^{(k)} = \\text{diags}(h^{(k,\\alpha,\\beta)}_0, h^{(k,\\alpha,\\beta)}_1, \\ldots)$, $H=H^{(0)}$, and $h^{(k,\\alpha,\\beta)}_n$ is given as\n",
    "\n",
    "\\begin{equation}\n",
    "    \\left( \\partial^k P^{(\\alpha, \\beta)}_{n},  \\partial^k P^{(\\alpha, \\beta)}_{n}\\right)_{\\omega^{(\\alpha+k,\\beta+k)}} = h^{(k,\\alpha, \\beta)}_{n}, \\quad \\text{for} \\quad n\\ge 0.\n",
    "    \\label{eq:orthoderP}\n",
    "\\end{equation}\n",
    "\n",
    "On index form we have\n",
    "\n",
    "\\begin{equation}\n",
    "    (1-x^2)^k \\partial^k {P}^{(\\alpha,\\beta)}_n = \\sum_{m=n-k}^{n+k}\\frac{h^{(k,\\alpha, \\beta)}_{n}}{h^{(0,\\alpha, \\beta)}_{m}} b^{(k)}_{nm}{P}_{m}^{(\\alpha,\\beta)}, \\label{eq:recurB2}\n",
    "\\end{equation}\n",
    "\n",
    "We can shown that this relations holds for some random choices of parameters.\n",
    "\n",
    "# Implementation"
   ]
  },
  {
   "cell_type": "code",
   "execution_count": 1,
   "id": "086b88fa",
   "metadata": {},
   "outputs": [],
   "source": [
    "import sympy as sp\n",
    "from shenfun.jacobi.recursions import alfa, beta, qn, dqn, n, cn, un, x, h, b, matpow, half\n",
    "\n",
    "def lhs(n, k, alfa, beta, gn=1):\n",
    "    \"\"\"Left hand side of (1)\n",
    "    \n",
    "    Parameters\n",
    "    ----------\n",
    "    n : int\n",
    "        Index\n",
    "    k : int\n",
    "        parameter\n",
    "    alfa, beta : numbers\n",
    "        Jacobi parameters\n",
    "    gn : scaling function\n",
    "    \"\"\"\n",
    "    return (1-x**2)**k*dqn(alfa, beta, n, k, gn)\n",
    "\n",
    "def rhs(n, k, alfa, beta, gn=1):\n",
    "    \"\"\"Right hand side of (1)\n",
    "    \n",
    "    Matrix vector product for given row n.\n",
    "    \n",
    "    Parameters\n",
    "    ----------\n",
    "    n : int\n",
    "        Index\n",
    "    k : int\n",
    "        parameter\n",
    "    alfa, beta : numbers\n",
    "        Jacobi parameters\n",
    "    gn : scaling function\n",
    "    \"\"\"\n",
    "    s = 0\n",
    "    for j in range(-k, k+1):\n",
    "        m = n+j\n",
    "        s += h(alfa, beta, n, k, gn)/h(alfa, beta, m, 0, gn)*matpow(b, k, alfa, beta, n, m, gn)*qn(alfa, beta, m, gn)\n",
    "    return s\n",
    "\n",
    "# Sympy is not smart enough to simplify lhs and rhs to the same expression. Hence\n",
    "# we need to show numerically that the expressions are zero for some random x and n.\n",
    "\n",
    "def assert_equal(n, k, alf, bet, x_=0.2, gn=1):\n",
    "    f = abs(lhs(n, k, alf, bet, gn) - rhs(n, k, alf, bet, gn)).subs(x, x_)\n",
    "    assert f < 1e-12\n",
    "    \n",
    "# Legendre polynomials with gn=1\n",
    "for k in (1, 2, 3, 4):\n",
    "    for x_ in (0.1, 0.7):\n",
    "        assert_equal(6, k, 0, 0, x_)\n",
    "\n",
    "# Chebyshev polynomials with gn=cn\n",
    "for k in (1, 2, 3, 4):\n",
    "    for x_ in (0.1, 0.7):\n",
    "        assert_equal(6, k, -half, -half, x_, cn)\n",
    "\n",
    "        "
   ]
  },
  {
   "cell_type": "markdown",
   "id": "93b5a51c",
   "metadata": {},
   "source": [
    "# Some further results\n",
    "\n",
    "\n",
    "Equation (4.17) gives\n",
    "\n",
    "\\begin{equation}\n",
    "\\gamma^{(k,\\alpha,\\beta)}_{n} = \\frac{\\psi^{(k/2,\\alpha,\\beta)}_{n+k} g^{(\\alpha, \\beta)}_{n+k}h^{({k}/{2},\\alpha+{k}/{2}, \\beta+{k}/{2})}_{n+{k}/{2}}}{g^{(\\alpha+{k}/{2},\\beta+{k}/{2})}_{n+{k}/{2}}h^{(k,\\alpha,\\beta)}_{n+k}}.\n",
    "\\end{equation}\n"
   ]
  },
  {
   "cell_type": "markdown",
   "id": "71e8bdf8",
   "metadata": {},
   "source": [
    "The equation is derived using\n",
    "\n",
    "\n",
    "\\begin{equation}\n",
    "    \\partial^k P^{(\\alpha, \\beta)}_n = \\psi^{(k,\\alpha,\\beta)}_{n} P^{(\\alpha+k,\\beta+k)}_{n-k},\n",
    "    \\label{eq:derP}\n",
    "\\end{equation}\n",
    "\n",
    "where $\\psi^{(k,\\alpha,\\beta)}_{n}$ is given in Eq. (2.8). Using\n",
    "\n",
    "\\begin{equation}\n",
    "    Q^{(\\alpha,\\beta)}_n(x) = g_n^{(\\alpha,\\beta)} P^{(\\alpha,\\beta)}_n(x),\n",
    "    \\label{eq:Qspec}\n",
    "\\end{equation}\n",
    "\n",
    "Eq. \\eqref{eq:derP} becomes\n",
    "\n",
    "\\begin{equation}\n",
    "    \\partial^k Q^{(\\alpha, \\beta)}_n = \\frac{g^{(\\alpha,\\beta)}_n }{g^{\\alpha+k,\\beta+k}_{n-k}} \\psi^{(k,\\alpha,\\beta)}_{n} Q^{(\\alpha+k,\\beta+k)}_{n-k},\n",
    "    \\label{eq:derQ}\n",
    "\\end{equation}\n",
    "\n",
    "The same equation for $k/2$ is\n",
    "\n",
    "\\begin{equation}\n",
    "    \\partial^{k/2} Q^{(\\alpha, \\beta)}_{n} = \\frac{g^{(\\alpha,\\beta)}_n }{g^{\\alpha+k/2,\\beta+k/2}_{n-k/2}} \\psi^{(k/2,\\alpha,\\beta)}_{n} Q^{(\\alpha+k/2,\\beta+k/2)}_{n-k/2},\n",
    "    \\label{eq:derQ2}\n",
    "\\end{equation}\n",
    "\n",
    "Take $\\partial^{k/2}$ of this equation to obtain\n",
    "\n",
    "\\begin{equation}\n",
    "    \\partial^{k} Q^{(\\alpha, \\beta)}_{n} = \\frac{g^{(\\alpha,\\beta)}_n }{g^{\\alpha+k/2,\\beta+k/2}_{n-k/2}} \\psi^{(k/2,\\alpha,\\beta)}_{n} \\partial^{k/2}Q^{(\\alpha+k/2,\\beta+k/2)}_{n-k/2},\n",
    "    \\label{eq:derQ3}\n",
    "\\end{equation}\n",
    "\n",
    "and shift the index to $n+k$ to obtain\n",
    "\n",
    "\\begin{equation}\n",
    "    \\partial^{k} Q^{(\\alpha, \\beta)}_{n+k} = \\frac{g^{(\\alpha,\\beta)}_{n+k} }{g^{\\alpha+k/2,\\beta+k/2}_{n+k/2}} \\psi^{(k/2,\\alpha,\\beta)}_{n+k} \\partial^{k/2}Q^{(\\alpha+k/2,\\beta+k/2)}_{n+k/2},\n",
    "    \\label{eq:derQ4}\n",
    "\\end{equation}\n",
    "\n",
    "Now we want to find $\\gamma^{(k,\\alpha,\\beta)}$ such that\n",
    "\n",
    "\\begin{equation}\n",
    "    \\overline{\\phi}^{(k,\\alpha,\\beta)}_m = \\gamma^{(k,\\alpha,\\beta)}_{m} \\phi^{(k/2, \\alpha+{k}/{2}, \\beta+{k}/{2})}_{m}, \\label{eq:phiover}\n",
    "\\end{equation}\n",
    "\n",
    "where\n",
    "\n",
    "\\begin{equation}\n",
    "\\overline{\\phi}^{(k,\\alpha,\\beta)}_m = \\frac{(1-x^2)^{k/2}}{h^{(k,\\alpha,\\beta)}_{n+k}}\\partial^k Q^{(\\alpha,\\beta)}_{n+k} \n",
    "\\end{equation}\n",
    "\n",
    "and\n",
    "\n",
    "\\begin{equation}\n",
    "\\phi^{(k/2,\\alpha+k/2,\\beta+k/2)}_n = \\frac{(1-x^2)^{k/2}}{h^{(k/2,\\alpha+k/2,\\beta+k/2)}_{n+k/2}}\\partial^{k/2} Q^{(\\alpha,\\beta)}_{n+k/2}\n",
    "\\end{equation}\n",
    "\n",
    "We get\n",
    "\n",
    "\\begin{equation}\n",
    "\\gamma^{(k,\\alpha,\\beta)}_n = \\frac{\\frac{(1-x^2)^{k/2}}{h^{(k,\\alpha,\\beta)}_{n+k}}\\partial^k Q^{(\\alpha,\\beta)}_{n+k}}{\\frac{(1-x^2)^{k/2}}{h^{(k/2,\\alpha+k/2,\\beta+k/2)}_{n+k/2}}\\partial^{k/2} Q^{(\\alpha,\\beta)}_{n+k/2}}\n",
    "\\end{equation}\n",
    "\n",
    "The $(1-x^2)^{k/2}$ cancel out \n",
    "\n",
    "\\begin{equation}\n",
    "\\gamma^{(k,\\alpha,\\beta)}_n = \\frac{{h^{(k/2,\\alpha+k/2,\\beta+k/2)}_{n+k/2}}}{h^{(k,\\alpha,\\beta)}_{n+k}} \\frac{ \\partial^k Q^{(\\alpha,\\beta)}_{n+k} }{\\partial^{k/2}Q^{(\\alpha,\\beta)}_{n+k/2}}\n",
    "\\end{equation}\n",
    "\n",
    "and we finally use Eq. (6) to get\n",
    "\n",
    "\\begin{equation}\n",
    "\\gamma^{(k,\\alpha,\\beta)}_{n} = \\frac{\\psi^{(k/2,\\alpha,\\beta)}_{n+k} g^{(\\alpha, \\beta)}_{n+k}h^{({k}/{2},\\alpha+{k}/{2}, \\beta+{k}/{2})}_{n+{k}/{2}}}{g^{(\\alpha+{k}/{2},\\beta+{k}/{2})}_{n+{k}/{2}}h^{(k,\\alpha,\\beta)}_{n+k}}.\n",
    "\\end{equation}\n"
   ]
  },
  {
   "cell_type": "code",
   "execution_count": 2,
   "id": "6052aa6d",
   "metadata": {},
   "outputs": [],
   "source": [
    "from shenfun.jacobi.recursions import half, alfa, beta, psi, cn, un, h, n, sp\n",
    "\n",
    "def gamma(k, alf, bet, gna, gnb):\n",
    "    \"\"\"Return Eq. (12)\n",
    "    \n",
    "    Parameters\n",
    "    ----------\n",
    "    k : int\n",
    "    alf : number\n",
    "    bet : number\n",
    "    gna : The scaling function of the trial space\n",
    "    gnb : The scaling function of the test space\n",
    "    \"\"\"\n",
    "    return sp.simplify(psi(alf, bet, n + k, k//2)\n",
    "                       *gna(alf, bet, n + k)\n",
    "                       *h(alf + k//2, bet + k//2, n + k//2, k//2, gnb)\n",
    "                       /(gnb(alf + k//2, bet + k//2, n + k//2) * h(alf, bet, n + k, k, gna)))\n"
   ]
  },
  {
   "cell_type": "markdown",
   "id": "b0cc0dc9",
   "metadata": {},
   "source": [
    "Let the trial space be based on Chebyshev polynomials of the first kind, whereas the test space makes use of Chebyshev polynomials of the second kind. For these to bases the scaling function is\n",
    "\n",
    "$$\n",
    "g_n^{(-1/2,-1/2)} = \\frac{1}{P^{(-1/2,-1/2)}_{n}(1)}\n",
    "$$\n",
    "\n",
    "and \n",
    "\n",
    "$$\n",
    "g_n^{(1/2,1/2)} = \\frac{n+1}{P^{(1/2,1/2)}_{n}(1)}\n",
    "$$\n",
    "\n",
    "respectively. These two functions are imported under names `cn` and `un`, respectively. See [jacobi.recursions.py](https://github.com/spectralDNS/shenfun/blob/master/shenfun/jacobi/recursions.py).\n",
    "\n",
    "We get $\\gamma^{(2,-1/2,-1/2)}_n$ to be"
   ]
  },
  {
   "cell_type": "code",
   "execution_count": 3,
   "id": "2b81d52a",
   "metadata": {},
   "outputs": [
    {
     "data": {
      "text/latex": [
       "$\\displaystyle \\frac{1}{n + 2}$"
      ],
      "text/plain": [
       "1/(n + 2)"
      ]
     },
     "execution_count": 3,
     "metadata": {},
     "output_type": "execute_result"
    }
   ],
   "source": [
    "gam = gamma(2, -half, -half, cn, un)\n",
    "gam"
   ]
  },
  {
   "cell_type": "markdown",
   "id": "60e66ff0",
   "metadata": {},
   "source": [
    "# Eq. (2.24)\n",
    "\n",
    "We state that\n",
    "\n",
    "\\begin{equation}\n",
    "    h_n^{(k)}\\underline{a}^{(k,q)}_{nm} = h_m^{(k)} \\underline{a}_{mn}^{(k,q)}.\n",
    "\\end{equation}\n",
    "\n",
    "This can be easily shown using shenfun."
   ]
  },
  {
   "cell_type": "code",
   "execution_count": 4,
   "id": "f262c619",
   "metadata": {},
   "outputs": [],
   "source": [
    "from shenfun.jacobi.recursions import a_, n\n",
    "k, q = 1, 3"
   ]
  },
  {
   "cell_type": "markdown",
   "id": "d2468750",
   "metadata": {},
   "source": [
    "The matrix $\\underline{A}$ is tridiagonal and as such $\\underline{A}^q$ has bandwidth $1+2q$. It will as such be sufficient to look at the index $m$ being one of $(n-q, n-q+1, \\ldots , n+q-1, n+q)$. Check that all components of $h_n^{(k)}\\underline{a}^{(k,q)}_{nm} - h_m^{(k)} \\underline{a}_{mn}^{(k,q)}$ are identically zero. Since this takes a bit of time (Sympy.simplify is pretty slow), we can use $\\alpha=\\beta$ to speed up. But the results hold also for Jacobi polynomials in general."
   ]
  },
  {
   "cell_type": "code",
   "execution_count": 5,
   "id": "313234a2",
   "metadata": {},
   "outputs": [
    {
     "name": "stdout",
     "output_type": "stream",
     "text": [
      "m = n-3, dh = 0\n",
      "m = n-2, dh = 0\n",
      "m = n-1, dh = 0\n",
      "m = n+0, dh = 0\n",
      "m = n+1, dh = 0\n",
      "m = n+2, dh = 0\n",
      "m = n+3, dh = 0\n"
     ]
    }
   ],
   "source": [
    "beta = alfa\n",
    "for i in range(-q, q+1):\n",
    "    m = n+i\n",
    "    dh = h(alfa, beta, n, k)*a_(k, q, alfa, beta, n, m) - h(alfa, beta, m, k)*a_(k, q, alfa, beta, m, n)\n",
    "    print(\"m = n{0:+}, dh =\".format(i), sp.simplify(dh))"
   ]
  }
 ],
 "metadata": {
  "kernelspec": {
   "display_name": "shenfun",
   "language": "python",
   "name": "shenfun"
  },
  "language_info": {
   "codemirror_mode": {
    "name": "ipython",
    "version": 3
   },
   "file_extension": ".py",
   "mimetype": "text/x-python",
   "name": "python",
   "nbconvert_exporter": "python",
   "pygments_lexer": "ipython3",
   "version": "3.10.2"
  },
  "toc": {
   "base_numbering": 1,
   "nav_menu": {},
   "number_sections": false,
   "sideBar": true,
   "skip_h1_title": false,
   "title_cell": "Table of Contents",
   "title_sidebar": "Contents",
   "toc_cell": false,
   "toc_position": {},
   "toc_section_display": true,
   "toc_window_display": false
  }
 },
 "nbformat": 4,
 "nbformat_minor": 5
}
