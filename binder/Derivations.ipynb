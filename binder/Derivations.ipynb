{
 "cells": [
  {
   "cell_type": "markdown",
   "id": "93b5a51c",
   "metadata": {},
   "source": [
    "# Some further results\n",
    "\n",
    "\n",
    "Equation (4.17) gives\n",
    "\n",
    "\\begin{equation}\n",
    "\\gamma^{(k,\\alpha,\\beta)}_{n} = \\frac{\\psi^{(k/2,\\alpha,\\beta)}_{n+k} g^{(\\alpha, \\beta)}_{n+k}h^{({k}/{2},\\alpha+{k}/{2}, \\beta+{k}/{2})}_{n+{k}/{2}}}{g^{(\\alpha+{k}/{2},\\beta+{k}/{2})}_{n+{k}/{2}}h^{(k,\\alpha,\\beta)}_{n+k}}.\n",
    "\\end{equation}\n"
   ]
  },
  {
   "cell_type": "markdown",
   "id": "71e8bdf8",
   "metadata": {},
   "source": [
    "The equation is derived using\n",
    "\n",
    "\n",
    "\\begin{equation}\n",
    "    \\partial^k P^{(\\alpha, \\beta)}_n = \\psi^{(k,\\alpha,\\beta)}_{n} P^{(\\alpha+k,\\beta+k)}_{n-k},\n",
    "    \\label{eq:derP}\n",
    "\\end{equation}\n",
    "\n",
    "which with\n",
    "\n",
    "\\begin{equation}\n",
    "    Q^{(\\alpha,\\beta)}_n(x) = g_n^{(\\alpha,\\beta)} P^{(\\alpha,\\beta)}_n(x),\n",
    "    \\label{eq:Qspec}\n",
    "\\end{equation}\n",
    "\n",
    "becomes\n",
    "\n",
    "\\begin{equation}\n",
    "    \\partial^k Q^{(\\alpha, \\beta)}_n = \\frac{g^{(\\alpha,\\beta)}_n }{g^{\\alpha+k,\\beta+k}_{n-k}} \\psi^{(k,\\alpha,\\beta)}_{n} Q^{(\\alpha+k,\\beta+k)}_{n-k},\n",
    "    \\label{eq:derQ}\n",
    "\\end{equation}\n",
    "\n",
    "The same equation for $k/2$ is\n",
    "\n",
    "\\begin{equation}\n",
    "    \\partial^{k/2} Q^{(\\alpha, \\beta)}_{n} = \\frac{g^{(\\alpha,\\beta)}_n }{g^{\\alpha+k/2,\\beta+k/2}_{n-k/2}} \\psi^{(k/2,\\alpha,\\beta)}_{n} Q^{(\\alpha+k/2,\\beta+k/2)}_{n-k/2},\n",
    "    \\label{eq:derQ2}\n",
    "\\end{equation}\n",
    "\n",
    "Take $\\partial^{k/2}$ of this equation to obtain\n",
    "\n",
    "\\begin{equation}\n",
    "    \\partial^{k} Q^{(\\alpha, \\beta)}_{n} = \\frac{g^{(\\alpha,\\beta)}_n }{g^{\\alpha+k/2,\\beta+k/2}_{n-k/2}} \\psi^{(k/2,\\alpha,\\beta)}_{n} \\partial^{k/2}Q^{(\\alpha+k/2,\\beta+k/2)}_{n-k/2},\n",
    "    \\label{eq:derQ3}\n",
    "\\end{equation}\n",
    "\n",
    "and shift the index to $n+k$ to obtain\n",
    "\n",
    "\\begin{equation}\n",
    "    \\partial^{k} Q^{(\\alpha, \\beta)}_{n+k} = \\frac{g^{(\\alpha,\\beta)}_{n+k} }{g^{\\alpha+k/2,\\beta+k/2}_{n+k/2}} \\psi^{(k/2,\\alpha,\\beta)}_{n+k} \\partial^{k/2}Q^{(\\alpha+k/2,\\beta+k/2)}_{n+k/2},\n",
    "    \\label{eq:derQ4}\n",
    "\\end{equation}\n",
    "\n",
    "Now we want to find $\\gamma^{(k,\\alpha,\\beta)}$ such that\n",
    "\n",
    "\\begin{equation}\n",
    "    \\overline{\\phi}^{(k,\\alpha,\\beta)}_m = \\gamma^{(k,\\alpha,\\beta)}_{m} \\phi^{(k/2, \\alpha+{k}/{2}, \\beta+{k}/{2})}_{m}, \\label{eq:phiover}\n",
    "\\end{equation}\n",
    "\n",
    "where\n",
    "\n",
    "\\begin{equation}\n",
    "\\overline{\\phi}^{(k,\\alpha,\\beta)}_m = \\frac{(1-x^2)^{k/2}}{h^{(k,\\alpha,\\beta)}_{n+k}}\\partial^k Q^{(\\alpha,\\beta)}_{n+k} \n",
    "\\end{equation}\n",
    "\n",
    "and\n",
    "\n",
    "\\begin{equation}\n",
    "\\phi^{(k/2,\\alpha+k/2,\\beta+k/2)}_n = \\frac{(1-x^2)^{k/2}}{h^{(k/2,\\alpha+k/2,\\beta+k/2)}_{n+k/2}}\\partial^{k/2} Q^{(\\alpha,\\beta)}_{n+k/2}\n",
    "\\end{equation}\n",
    "\n",
    "We get\n",
    "\n",
    "\\begin{equation}\n",
    "\\gamma^{(k,\\alpha,\\beta)}_n = \\frac{\\frac{(1-x^2)^{k/2}}{h^{(k,\\alpha,\\beta)}_{n+k}}\\partial^k Q^{(\\alpha,\\beta)}_{n+k}}{\\frac{(1-x^2)^{k/2}}{h^{(k/2,\\alpha+k/2,\\beta+k/2)}_{n+k/2}}\\partial^{k/2} Q^{(\\alpha,\\beta)}_{n+k/2}}\n",
    "\\end{equation}\n",
    "\n",
    "The $(1-x^2)^{k/2}$ cancel out \n",
    "\n",
    "\\begin{equation}\n",
    "\\gamma^{(k,\\alpha,\\beta)}_n = \\frac{{h^{(k/2,\\alpha+k/2,\\beta+k/2)}_{n+k/2}}}{h^{(k,\\alpha,\\beta)}_{n+k}} \\frac{ \\partial^k Q^{(\\alpha,\\beta)}_{n+k} }{\\partial^{k/2}Q^{(\\alpha,\\beta)}_{n+k/2}}\n",
    "\\end{equation}\n",
    "\n",
    "and we finally use Eq. (6) to get\n",
    "\n",
    "\\begin{equation}\n",
    "\\gamma^{(k,\\alpha,\\beta)}_{n} = \\frac{\\psi^{(k/2,\\alpha,\\beta)}_{n+k} g^{(\\alpha, \\beta)}_{n+k}h^{({k}/{2},\\alpha+{k}/{2}, \\beta+{k}/{2})}_{n+{k}/{2}}}{g^{(\\alpha+{k}/{2},\\beta+{k}/{2})}_{n+{k}/{2}}h^{(k,\\alpha,\\beta)}_{n+k}}.\n",
    "\\end{equation}\n"
   ]
  },
  {
   "cell_type": "code",
   "execution_count": 1,
   "id": "6052aa6d",
   "metadata": {},
   "outputs": [],
   "source": [
    "from shenfun.jacobi.recursions import half, alfa, beta, psi, cn, un, h, n, sp\n",
    "\n",
    "def gamma(k, alf, bet, gna, gnb):\n",
    "    \"\"\"Return Eq. (12)\n",
    "    \n",
    "    Parameters\n",
    "    ----------\n",
    "    k : int\n",
    "    alf : number\n",
    "    bet : number\n",
    "    gna : The scaling function of the trial space\n",
    "    gnb : The scaling function of the test space\n",
    "    \"\"\"\n",
    "    return sp.simplify(psi(alf, bet, n + k, k//2)\n",
    "                       *gna(alf, bet, n + k)\n",
    "                       *h(alf + k//2, bet + k//2, n + k//2, k//2, gnb)\n",
    "                       /(gnb(alf + k//2, bet + k//2, n + k//2) * h(alf, bet, n + k, k, gna)))\n"
   ]
  },
  {
   "cell_type": "markdown",
   "id": "b0cc0dc9",
   "metadata": {},
   "source": [
    "Let the trial space be based on Chebyshev polynomials of the first kind, whereas the test space makes use of Chebyshev polynomials of the second kind. For these to bases the scaling function is\n",
    "\n",
    "$$\n",
    "g_n^{(-1/2,-1/2)} = \\frac{1}{P^{(-1/2,-1/2)}_{n}(1)}\n",
    "$$\n",
    "\n",
    "and \n",
    "\n",
    "$$\n",
    "g_n^{(1/2,1/2)} = \\frac{n+1}{P^{(1/2,1/2)}_{n}(1)}\n",
    "$$\n",
    "\n",
    "respectively. These two functions are imported under names `cn` and `un`, respectively. See [jacobi.recursions.py](https://github.com/spectralDNS/shenfun/blob/master/shenfun/jacobi/recursions.py).\n",
    "\n",
    "We get $\\gamma^{(2,-1/2,-1/2)}_n$ to be"
   ]
  },
  {
   "cell_type": "code",
   "execution_count": 2,
   "id": "2b81d52a",
   "metadata": {},
   "outputs": [
    {
     "data": {
      "text/latex": [
       "$\\displaystyle \\frac{1}{n + 2}$"
      ],
      "text/plain": [
       "1/(n + 2)"
      ]
     },
     "execution_count": 2,
     "metadata": {},
     "output_type": "execute_result"
    }
   ],
   "source": [
    "gam = gamma(2, -half, -half, cn, un)\n",
    "gam"
   ]
  },
  {
   "cell_type": "markdown",
   "id": "b480d3f2",
   "metadata": {},
   "source": [
    "# Eq. (2.24)\n",
    "\n",
    "We state that\n",
    "\n",
    "\\begin{equation}\n",
    "    h_n^{(k)}\\underline{a}^{(k,q)}_{nm} = h_m^{(k)} \\underline{a}_{mn}^{(k,q)},\n",
    "\\end{equation}\n",
    "\n",
    "This can be easily shown using shenfun."
   ]
  },
  {
   "cell_type": "code",
   "execution_count": 3,
   "id": "a8f2a955",
   "metadata": {},
   "outputs": [],
   "source": [
    "from shenfun.jacobi.recursions import a_, n\n",
    "k, q = 1, 3"
   ]
  },
  {
   "cell_type": "markdown",
   "id": "41a30a78",
   "metadata": {},
   "source": [
    "The matrix $\\underline{A}$ is tridiagonal and as such $\\underline{A}^q$ has bandwidth $1+2q$. It will as such be sufficient to look at the index $m$ being one of $(n-q, n-q+1, \\ldots , n+q-1, n+q)$. Check that all components of $h_n^{(k)}\\underline{a}^{(k,q)}_{nm} - h_m^{(k)} \\underline{a}_{mn}^{(k,q)}$ are identically zero. Since this takes a bit of time (Sympy.simplify is pretty slow), we can use $\\alpha=\\beta$ to speed up. But the results hold also for Jacobi polynomials in general."
   ]
  },
  {
   "cell_type": "code",
   "execution_count": 4,
   "id": "0d79d3de",
   "metadata": {},
   "outputs": [
    {
     "name": "stdout",
     "output_type": "stream",
     "text": [
      "m = n-3, dh = 0\n",
      "m = n-2, dh = 0\n",
      "m = n-1, dh = 0\n",
      "m = n+0, dh = 0\n",
      "m = n+1, dh = 0\n",
      "m = n+2, dh = 0\n",
      "m = n+3, dh = 0\n"
     ]
    }
   ],
   "source": [
    "beta = alfa\n",
    "for i in range(-q, q+1):\n",
    "    m = n+i\n",
    "    dh = h(alfa, beta, n, k)*a_(k, q, alfa, beta, n, m) - h(alfa, beta, m, k)*a_(k, q, alfa, beta, m, n)\n",
    "    print(\"m = n{0:+}, dh =\".format(i), sp.simplify(dh))"
   ]
  }
 ],
 "metadata": {
  "kernelspec": {
   "display_name": "shenfun",
   "language": "python",
   "name": "shenfun"
  },
  "language_info": {
   "codemirror_mode": {
    "name": "ipython",
    "version": 3
   },
   "file_extension": ".py",
   "mimetype": "text/x-python",
   "name": "python",
   "nbconvert_exporter": "python",
   "pygments_lexer": "ipython3",
   "version": "3.10.2"
  },
  "toc": {
   "base_numbering": 1,
   "nav_menu": {},
   "number_sections": false,
   "sideBar": true,
   "skip_h1_title": false,
   "title_cell": "Table of Contents",
   "title_sidebar": "Contents",
   "toc_cell": false,
   "toc_position": {},
   "toc_section_display": true,
   "toc_window_display": false
  }
 },
 "nbformat": 4,
 "nbformat_minor": 5
}
