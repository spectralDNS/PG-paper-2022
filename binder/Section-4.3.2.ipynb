{
 "cells": [
  {
   "cell_type": "markdown",
   "id": "469fee68",
   "metadata": {},
   "source": [
    "# Section 4.3.2\n",
    "\n",
    "This is an implementation of the second order problem in Sec. 4.3.2 of the paper\n",
    "\n",
    "    M Mortensen, \"A generic and strictly banded spectral Petrov-Galerkin method for differential equations with polynomial coefficients\"\n",
    "    "
   ]
  },
  {
   "cell_type": "markdown",
   "id": "3fd7feb6",
   "metadata": {},
   "source": [
    "# Helmholtz equation\n",
    "\n",
    "The Helmholtz Dirichlet problem is described as\n",
    "\n",
    "$$\n",
    "u''(x) - \\mu u(x) = f(x), \\quad u(\\pm 1) = 0,  x \\in [-1, 1]\n",
    "$$\n",
    "\n",
    "where $\\mu \\ge 0$ is a constant, $f(x)$ is some right hand side function and $u(x)$ is the solution. For the solution we will use either one of the orthogonal polynomials $Q_n(x)$ defined in [Section-4.3.1](Section-4.3.1.ipynb). That is, we use $T_n, L_n, U_n$ or $Q^{(\\alpha)}_n$.\n",
    "\n",
    "We solve the Helmholtz equation with a Petrov-Galerkin method and use the trial functions \n",
    "\n",
    "$$\n",
    "\\psi_n = Q_n-Q_{n+2}, \\quad n=0,1, \\ldots, N-2,\n",
    "$$\n",
    "\n",
    "for the three families $Q_n=T_n, L_n,$ or $Q^{(\\alpha)}_n$. For Chebyshev polynomials of the second kind the trial functions are\n",
    "\n",
    "$$\n",
    "\\psi_n = {U_n}-\\frac{n+1}{n+3}U_{n+2}, \\quad n=0,1, \\ldots, N-2\n",
    "$$\n",
    "\n",
    "which is actually equal to $\\psi_n=(n+1)(Q^{(1/2)}_n-Q^{(1/2)}_{n+2})$.\n",
    "\n",
    "The trial space is $S=\\{\\psi_n\\}_{n=0}^{N-2}$. For the test space we use $V=\\text{span}\\left\\{\\phi^{(2)}_n\\right\\}_{n=0}^{N-2}$, where $\\phi^{(2)}_n$ also was defined in [Section-4.3.1](Section-4.3.1.ipynb). Note that we use\n",
    "\n",
    "$$\n",
    "\\phi^{(k)}_n = \\frac{(1-x^2)^k}{h^{(k)}_{n+k}} \\frac{d^k Q_{n+k}}{dx^k},\n",
    "$$\n",
    "\n",
    "for $Q_n=T_n, L_n, Q^{(\\alpha)}_n$, or $U_n$, and that $h^{(k)}_{n+k}$ includes the scaling function $g_n$.\n",
    "\n",
    "The method is to find $u \\in S$ such that\n",
    "\n",
    "$$\n",
    "(u'', v)_{\\omega^{\\alpha}} - \\mu(u, v)_{\\omega^{\\alpha}} = (f, v)_{\\omega^{\\alpha}}, \\quad \\text{for all } v \\in V\n",
    "$$\n",
    "\n",
    "We start by importing shenfun's functionality, and specify some parameters with obvious meaning."
   ]
  },
  {
   "cell_type": "code",
   "execution_count": 1,
   "id": "074f8469",
   "metadata": {},
   "outputs": [],
   "source": [
    "from shenfun import *\n",
    "import matplotlib.pyplot as plt\n",
    "\n",
    "N = 60\n",
    "mu = 1"
   ]
  },
  {
   "cell_type": "markdown",
   "id": "6800f879",
   "metadata": {},
   "source": [
    "Choose family of polynomials by uncommenting only one of the following four lines."
   ]
  },
  {
   "cell_type": "code",
   "execution_count": 2,
   "id": "fabfbac6",
   "metadata": {},
   "outputs": [],
   "source": [
    "#family = 'Ultraspherical'; kw = {'alpha': 1}\n",
    "#family = 'Legendre'; kw = {}\n",
    "family = 'Chebyshev'; kw = {}\n",
    "#family = 'ChebyshevU'; kw = {}"
   ]
  },
  {
   "cell_type": "markdown",
   "id": "2d9ea87a",
   "metadata": {},
   "source": [
    "Create function spaces and test and trial functions. Assemble the coefficient matrix A, that will consist of both mass and stiffness matrices."
   ]
  },
  {
   "cell_type": "code",
   "execution_count": 3,
   "id": "aa1cc6d9",
   "metadata": {},
   "outputs": [],
   "source": [
    "S = FunctionSpace(N, family, bc=(0, 0), **kw)\n",
    "V = FunctionSpace(N+2, family, basis='Phi2', **kw)\n",
    "u = TrialFunction(S)\n",
    "v = TestFunction(V)\n",
    "A = inner(v, div(grad(u)) - mu*u)"
   ]
  },
  {
   "cell_type": "code",
   "execution_count": 4,
   "id": "3429d9ad",
   "metadata": {
    "scrolled": true
   },
   "outputs": [
    {
     "data": {
      "text/plain": [
       "Text(0.5, 0.98, 'Sparsity pattern stiffness (left) and mass (right) matrix')"
      ]
     },
     "execution_count": 4,
     "metadata": {},
     "output_type": "execute_result"
    },
    {
     "data": {
      "image/png": "[encoded data removed]",
      "text/plain": [
       "<Figure size 432x288 with 2 Axes>"
      ]
     },
     "metadata": {
      "needs_background": "light"
     },
     "output_type": "display_data"
    }
   ],
   "source": [
    "fig, (ax1, ax2) = plt.subplots(1, 2)\n",
    "ax1.spy(A[0].diags(), ms=2)\n",
    "ax2.spy(A[1].diags(), ms=2)\n",
    "fig.suptitle('Sparsity pattern stiffness (left) and mass (right) matrix')"
   ]
  },
  {
   "cell_type": "markdown",
   "id": "d640b88e",
   "metadata": {},
   "source": [
    "## Alternative formulation\n",
    "\n",
    "An alternative formulation (see Sec. 4.1.4) for this problem  is to find $u\\in \\text{V}^{(1)}_N$ such that \n",
    "\n",
    "\\begin{equation}\n",
    "    (u'', v)_{\\omega^{(\\alpha+1)}} - \\mu (u, v)_{\\omega^{(\\alpha+1)}} = (f, v)_{\\omega^{(\\alpha+1)}}, \\quad \\forall \\, v \\in \\text{V}^{(1)}_{N} = \\text{span}\\{\\overline{\\phi}^{(2,\\alpha)}_m\\}_{m=0}^{N-2},\n",
    "\\end{equation}\n",
    "\n",
    "where \n",
    "\n",
    "\\begin{equation}\n",
    "    \\overline{\\phi}^{(2,\\alpha,\\beta)}_m = \\gamma^{(2,\\alpha,\\beta)}_{m} \\phi^{(1, \\alpha+1, \\beta+1)}_{m}, \\label{eq:phiover}\n",
    "\\end{equation}\n",
    "\n",
    "and $\\gamma^{(2,\\alpha,\\beta)}_m$ is given by Eq. (4.18) in the paper.\n",
    "\n",
    "We use Chebyshev polynomials of the first kind for trial function ($\\psi_n=T_n-T_{n+2}$) and the second kind for the test functions that become \n",
    "\n",
    "$$\n",
    "\\overline{\\phi}^{(2,-1/2, -1/2)}_m = \\frac{1}{m+2} \\phi^{(1,1/2,1/2)}_m =  \\frac{1}{\\pi (m+2)}\\left(\\frac{U_m}{m+1}-\\frac{U_{m+2}}{m+3}\\right)\n",
    "$$\n",
    "\n",
    "It is implemented in shenfun as"
   ]
  },
  {
   "cell_type": "code",
   "execution_count": 5,
   "id": "01cdf062",
   "metadata": {},
   "outputs": [],
   "source": [
    "S = FunctionSpace(N, 'C', bc=(0, 0))\n",
    "V = FunctionSpace(N, 'U', basis='Phi1', scaled=True)\n",
    "u = TrialFunction(S)\n",
    "v = TestFunction(V)\n",
    "A2 = inner(v, div(grad(u)) - mu*u)"
   ]
  },
  {
   "cell_type": "markdown",
   "id": "be078729",
   "metadata": {},
   "source": [
    "Verify that the matrix is the same as `A` assembled above. Need to make sure Chebyshev is used, so recompute `A` here"
   ]
  },
  {
   "cell_type": "code",
   "execution_count": 6,
   "id": "09e0be88",
   "metadata": {},
   "outputs": [],
   "source": [
    "S = FunctionSpace(N, 'C', bc=(0, 0), **kw)\n",
    "V = FunctionSpace(N+2, 'C', basis='Phi2', **kw)\n",
    "u = TrialFunction(S)\n",
    "v = TestFunction(V)\n",
    "A = inner(v, div(grad(u)) - mu*u)"
   ]
  },
  {
   "cell_type": "code",
   "execution_count": 7,
   "id": "6d3d882e",
   "metadata": {},
   "outputs": [],
   "source": [
    "M = A[0].diags('csr') + A[1].diags('csr')\n",
    "M2 = A2[0].diags('csr') + A2[1].diags('csr')\n",
    "assert np.linalg.norm((M-M2).toarray()) < 1e-14"
   ]
  },
  {
   "cell_type": "markdown",
   "id": "6ad2c8a0",
   "metadata": {},
   "source": [
    "If the assert passes, then the matrices are the same."
   ]
  },
  {
   "cell_type": "markdown",
   "id": "eff8f422",
   "metadata": {},
   "source": [
    "# Condition numbers\n",
    "\n",
    "Check the condition number of the coefficient matrix. Use a relatively low number since Jacobi is not implemented very robustly, with gamma functions that overflow. Also, Numpy's routine for computing the condition number makes use of dense matrices, which limits the size. "
   ]
  },
  {
   "cell_type": "code",
   "execution_count": 8,
   "id": "cb31bc11",
   "metadata": {},
   "outputs": [],
   "source": [
    "def cond(N, family='Chebyshev', alpha=0):\n",
    "    \"\"\"Return condition number of Helmholtz coefficient matrix\n",
    "    \n",
    "    Parameters\n",
    "    ----------\n",
    "    N : int\n",
    "        The number of quadrature points. For a Dirichlet space there is N-2 dofs.\n",
    "    family : str, optional\n",
    "        Either one of\n",
    "        - 'Chebyshev'      (or 'C')\n",
    "        - 'ChebyshevU'     (or 'U') \n",
    "        - 'Legendre'       (or 'L')\n",
    "        - 'Ultraspherical' (or 'Q')\n",
    "    alpha : number, optional\n",
    "        Parameters used only by the Ultraspherical family\n",
    "    \"\"\"\n",
    "    assert N < 1000\n",
    "    S = FunctionSpace(N, family, bc=(0, 0), alpha=alpha)\n",
    "    V = FunctionSpace(N+2, family, basis='Phi2', alpha=alpha)\n",
    "    u = TrialFunction(S)\n",
    "    v = TestFunction(V)\n",
    "    A = inner(v, div(grad(u)) - mu*u)\n",
    "    M = np.sum(np.array(A, dtype=object)).diags()\n",
    "    return np.linalg.cond(M.toarray())"
   ]
  },
  {
   "cell_type": "markdown",
   "id": "e6531c40",
   "metadata": {},
   "source": [
    "Run over all families and compute the condition numbers for a range of matrix sizes."
   ]
  },
  {
   "cell_type": "code",
   "execution_count": 9,
   "id": "e2d3a809",
   "metadata": {},
   "outputs": [],
   "source": [
    "alpha = 0.5\n",
    "con = {'C': [], 'L': [], 'U': [], 'Q': []}\n",
    "for family in 'CULQ':\n",
    "    for n in range(3, 8):\n",
    "        con[family].append(cond(2**n, family, alpha)) # alpha neglected by C, U, L"
   ]
  },
  {
   "cell_type": "markdown",
   "id": "3dfab0f7",
   "metadata": {},
   "source": [
    "Plot the condition numbers using loglog axes to show that Chebyshev, Legendre and any ultraspherical basis using scaling $g_n^{\\alpha}=(P^{(\\alpha,\\alpha)}_n(1))^{-1}$ obtain condition numbers that are $\\mathcal{O}(N)$, whereas Chebyshev of the second kind (which uses a slightly different scaling) obtain condition numbers scaling as $\\mathcal{O}(N^{3/2})$. Note that an ultraspherical basis with $\\alpha=1/2$ results in $\\mathcal{O}(N)$. "
   ]
  },
  {
   "cell_type": "code",
   "execution_count": 10,
   "id": "bfb92b13",
   "metadata": {
    "scrolled": false
   },
   "outputs": [
    {
     "data": {
      "image/png": "[encoded data removed]",
      "text/plain": [
       "<Figure size 432x288 with 1 Axes>"
      ]
     },
     "metadata": {
      "needs_background": "light"
     },
     "output_type": "display_data"
    }
   ],
   "source": [
    "for family in 'CULQ':\n",
    "    plt.loglog(2**np.array(range(3, 8)), con[family])\n",
    "\n",
    "plt.loglog(2**np.array(range(3, 8)), 2**np.array(range(3, 8)), '--')\n",
    "plt.loglog(2**np.array(range(3, 8)), (2**np.array(range(3, 8)))**1.5, '--')\n",
    "plt.legend(['Chebyshev 1', 'Chebyshev 2', 'Legendre', rf'Ultrasph. $(\\alpha={alpha})$', r'$\\mathcal{O}(N)$', r'$\\mathcal{O}(N^{3/2})$'])\n",
    "plt.title('Condition numbers Helmholtz coefficient matrix')\n",
    "plt.show()"
   ]
  },
  {
   "cell_type": "markdown",
   "id": "abe49957",
   "metadata": {},
   "source": [
    "# The Airy equation \n",
    "\n",
    "Another second order problem is the Airy differential equation\n",
    "\n",
    "\\begin{equation}\n",
    "    \\epsilon u'' - x u = 0, \\quad u(-1) = \\text{Ai}\\left(-\\sqrt[3]{\\tfrac{1}{\\epsilon}}\\right), u(1) = \\text{Ai}\\left(\\sqrt[3]{\\tfrac{1}{\\epsilon}}\\right), \\label{eq:airy}\n",
    "\\end{equation}\n",
    "\n",
    "which has the Airy function $u(x) = \\text{Ai}\\left(\\sqrt[3]{\\tfrac{1}{\\epsilon}} x\\right)$ as solution."
   ]
  },
  {
   "cell_type": "code",
   "execution_count": 11,
   "id": "0ea6d2bc",
   "metadata": {},
   "outputs": [],
   "source": [
    "import sympy as sp\n",
    "x = sp.Symbol('x', real=True)\n",
    "\n",
    "#e = sp.Rational(1, 1e9)\n",
    "e = sp.Rational(1, 1e6)\n",
    "ue = sp.airyai((1/e)**(sp.Rational(1, 3))*x)\n",
    "\n",
    "def main(N, family, alpha=0, returnmat=False):\n",
    "    SN = FunctionSpace(N, family, bc=(ue.subs(x, -1), ue.subs(x, 1)))\n",
    "    VN = FunctionSpace(N+2, family, basis='Phi2')\n",
    "    u = TrialFunction(SN)\n",
    "    v = TestFunction(VN)\n",
    "    A = [inner(div(grad(u)), e*v)] + inner(u, -x*v)\n",
    "    sol = la.Solver(A)\n",
    "    if returnmat:\n",
    "        return sol.mat\n",
    "    u_hat = Function(SN)\n",
    "    f_hat = Function(SN)\n",
    "    u_hat = sol(f_hat, u_hat)\n",
    "    ua = Array(SN.get_orthogonal(), buffer=ue)\n",
    "    return np.sqrt(inner(1, (u_hat.backward()-ua)**2))\n"
   ]
  },
  {
   "cell_type": "code",
   "execution_count": 12,
   "id": "329f9a8b",
   "metadata": {},
   "outputs": [],
   "source": [
    "error = []\n",
    "M = np.arange(500, 900, 10)\n",
    "#M = np.hstack([np.arange(200, 19201, 1000), np.arange(19220, 20781, 20), np.arange(20800, 40000, 1000)])\n",
    "for N in M:\n",
    "    error.append(main(N, 'C'))"
   ]
  },
  {
   "cell_type": "code",
   "execution_count": 13,
   "id": "7671e6ba",
   "metadata": {},
   "outputs": [
    {
     "data": {
      "image/png": "[encoded data removed]",
      "text/plain": [
       "<Figure size 720x288 with 3 Axes>"
      ]
     },
     "metadata": {
      "needs_background": "light"
     },
     "output_type": "display_data"
    }
   ],
   "source": [
    "fig, ax = plt.subplots(1, 2, figsize=(10, 4))\n",
    "ax[1].semilogy(M, error, 'k')\n",
    "ax[1].set(xlabel='N', ylabel='$||u_N-u||$')\n",
    "M = np.linspace(-1, 1, 40000)\n",
    "ax[0].plot(M, sp.lambdify(x, ue)(M), 'k')\n",
    "ax[0].set(xlabel='x', ylabel='u(x)')\n",
    "left, bottom, width, height = [0.35, 0.6, 0.1, 0.2]\n",
    "ax2 = fig.add_axes([left, bottom, width, height])\n",
    "M = np.linspace(-0.05, 0.05, 1000)\n",
    "ax2.plot(M, sp.lambdify(x, ue)(M), 'k')\n",
    "plt.show()"
   ]
  }
 ],
 "metadata": {
  "kernelspec": {
   "display_name": "shenfun",
   "language": "python",
   "name": "shenfun"
  },
  "language_info": {
   "codemirror_mode": {
    "name": "ipython",
    "version": 3
   },
   "file_extension": ".py",
   "mimetype": "text/x-python",
   "name": "python",
   "nbconvert_exporter": "python",
   "pygments_lexer": "ipython3",
   "version": "3.10.2"
  },
  "toc": {
   "base_numbering": 1,
   "nav_menu": {},
   "number_sections": false,
   "sideBar": true,
   "skip_h1_title": false,
   "title_cell": "Table of Contents",
   "title_sidebar": "Contents",
   "toc_cell": false,
   "toc_position": {},
   "toc_section_display": true,
   "toc_window_display": false
  }
 },
 "nbformat": 4,
 "nbformat_minor": 5
}
