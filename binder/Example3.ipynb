{
 "cells": [
  {
   "cell_type": "code",
   "execution_count": 1,
   "id": "a371127d",
   "metadata": {},
   "outputs": [],
   "source": [
    "from shenfun import *\n",
    "import sympy as sp\n",
    "import matplotlib.pyplot as plt\n",
    "config['basisvectors'] = 'normal'"
   ]
  },
  {
   "cell_type": "markdown",
   "id": "2d638099",
   "metadata": {},
   "source": [
    "Define the position vector"
   ]
  },
  {
   "cell_type": "code",
   "execution_count": 2,
   "id": "70be4c53",
   "metadata": {},
   "outputs": [],
   "source": [
    "t, theta = psi = sp.symbols('x,y', real=True)\n",
    "r = (t+3)/2\n",
    "rv = (r*sp.cos(theta), r*sp.sin(theta))"
   ]
  },
  {
   "cell_type": "markdown",
   "id": "6c249a1a",
   "metadata": {},
   "source": [
    "Create function spaces with curvilinear coordinates."
   ]
  },
  {
   "cell_type": "code",
   "execution_count": 3,
   "id": "6ead526a",
   "metadata": {},
   "outputs": [],
   "source": [
    "family = 'C'\n",
    "\n",
    "N = 50\n",
    "S1 = FunctionSpace(N, family, bc=(0, 0))\n",
    "V2 = FunctionSpace(N+2, family, basis='Phi2')\n",
    "T = TensorProductSpace(comm, (S1, S1), coordinates=(psi, rv, sp.Q.positive(t+3)))\n",
    "V = TensorProductSpace(comm, (V2, V2), coordinates=(psi, rv, sp.Q.positive(t+3)))\n",
    "u = TrialFunction(T)\n",
    "v = TestFunction(V)"
   ]
  },
  {
   "cell_type": "markdown",
   "id": "6d773d92",
   "metadata": {},
   "source": [
    "Print the Laplace operator in the new coordinates"
   ]
  },
  {
   "cell_type": "code",
   "execution_count": 4,
   "id": "13c33ab3",
   "metadata": {},
   "outputs": [
    {
     "data": {
      "text/latex": [
       "$\\displaystyle \\left(t + 3\\right)^{2}\\frac{\\partial^2 u}{\\partial t^2 }+\\left( t + 3 \\right)\\frac{\\partial  u}{\\partial t  }+\\frac{\\partial^2 u}{\\partial \\theta^2 }$"
      ],
      "text/plain": [
       "<IPython.core.display.Math object>"
      ]
     },
     "execution_count": 4,
     "metadata": {},
     "output_type": "execute_result"
    }
   ],
   "source": [
    "from IPython.display import Math\n",
    "du = div(grad(u))\n",
    "Math((du*((t+3)/2)**2).tolatex(symbol_names={t: 't', theta: '\\\\theta'}))"
   ]
  },
  {
   "cell_type": "markdown",
   "id": "97eb95a1",
   "metadata": {},
   "source": [
    "Create a manufactured solution and compute the corresponding right hand side. "
   ]
  },
  {
   "cell_type": "code",
   "execution_count": 5,
   "id": "02a9cfec",
   "metadata": {},
   "outputs": [],
   "source": [
    "ue = sp.sin(2*sp.pi*theta)*(r-1)*(r-2)*sp.cos(r*sp.pi)\n",
    "fe = (div(grad(u))).tosympy(basis=ue, psi=psi)"
   ]
  },
  {
   "cell_type": "markdown",
   "id": "1c27d4f6",
   "metadata": {},
   "source": [
    "Assemble left hand side matrix and right hand side vector."
   ]
  },
  {
   "cell_type": "code",
   "execution_count": 6,
   "id": "1dbaccfe",
   "metadata": {},
   "outputs": [],
   "source": [
    "f_hat = Function(V, buffer=fe)\n",
    "A = inner(div(grad(u)), v*(t+3))"
   ]
  },
  {
   "cell_type": "markdown",
   "id": "f6f4228c",
   "metadata": {},
   "source": [
    "Solve problem and check that it is solved correctly."
   ]
  },
  {
   "cell_type": "code",
   "execution_count": 7,
   "id": "63e0f7bb",
   "metadata": {},
   "outputs": [],
   "source": [
    "sol = la.Solver2D(A)\n",
    "u_hat = Function(T)\n",
    "u_hat = sol(inner(v*(t+3), f_hat), u_hat)\n",
    "uq = Array(T, buffer=ue)\n",
    "assert np.sqrt(inner(1, (u_hat.backward()-uq)**2)) < 1e-6"
   ]
  },
  {
   "cell_type": "markdown",
   "id": "ec399104",
   "metadata": {},
   "source": [
    "Verify that assembled matrices above correspond to Eq. (4.33) in the paper. Note that the matrix computed with `Lmat` corresponds to the matrix in Eq. (4.10). "
   ]
  },
  {
   "cell_type": "code",
   "execution_count": 8,
   "id": "22d87289",
   "metadata": {},
   "outputs": [],
   "source": [
    "from shenfun.jacobi.recursions import *\n",
    "\n",
    "alfa = {'L': 0, 'C': -half}[family]\n",
    "M = N-2\n",
    "K = S1.stencil_matrix()\n",
    "K.shape = (M, N)\n",
    "A0 = Lmat(2, 2, 0, M, N, alfa, alfa, cn) + 6*Lmat(2, 1, 0, M, N, alfa, alfa, cn) + 9*SparseMatrix({2: 1}, (M, N)).diags()\n",
    "A00 = extract_diagonal_matrix(A0*K.diags().T)\n",
    "m = extract_diagonal_matrix(A00.diags()-A[0].mats[0].diags())\n",
    "assert dict(m) == {}\n",
    "\n",
    "A1 = Lmat(2, 1, 1, M, N, alfa, alfa, cn) + 3*Lmat(2, 0, 1, M, N, alfa, alfa, cn)\n",
    "A11 = extract_diagonal_matrix(A1*K.diags().T)\n",
    "m1 = extract_diagonal_matrix(A11.diags()-A[1].mats[0].diags())\n",
    "assert dict(m1) == {}\n",
    "\n",
    "A2 = extract_diagonal_matrix(Lmat(2, 0, 2, M, N, alfa, alfa, cn)*K.diags().T)\n",
    "m2 = extract_diagonal_matrix(A2.diags()-A[2].mats[0].diags())\n",
    "assert dict(m2) == {}"
   ]
  },
  {
   "cell_type": "markdown",
   "id": "85fb061e",
   "metadata": {},
   "source": [
    "If you make it here with no error, then this means the matrices computed with quadrature above (in list `A`) are equal to the explicit matrix computed with `Lmat`, and described explicitly in the paper."
   ]
  }
 ],
 "metadata": {
  "kernelspec": {
   "display_name": "shenfun",
   "language": "python",
   "name": "shenfun"
  },
  "language_info": {
   "codemirror_mode": {
    "name": "ipython",
    "version": 3
   },
   "file_extension": ".py",
   "mimetype": "text/x-python",
   "name": "python",
   "nbconvert_exporter": "python",
   "pygments_lexer": "ipython3",
   "version": "3.10.2"
  },
  "toc": {
   "base_numbering": 1,
   "nav_menu": {},
   "number_sections": false,
   "sideBar": true,
   "skip_h1_title": false,
   "title_cell": "Table of Contents",
   "title_sidebar": "Contents",
   "toc_cell": false,
   "toc_position": {},
   "toc_section_display": true,
   "toc_window_display": false
  }
 },
 "nbformat": 4,
 "nbformat_minor": 5
}
