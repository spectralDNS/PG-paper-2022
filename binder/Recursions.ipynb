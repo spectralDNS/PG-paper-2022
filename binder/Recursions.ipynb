{
 "cells": [
  {
   "cell_type": "markdown",
   "id": "1d13672e",
   "metadata": {},
   "source": [
    "# Recursions\n",
    "\n",
    "All matrices described in the paper can be computed explicitly using shenfun. \n",
    "\n",
    "All families of orthogonal polynomials $\\{Q^{(\\alpha,\\beta)}_n\\}$ based on Jacobi polynomials can be written as\n",
    "\n",
    "\\begin{equation}\n",
    "    Q^{(\\alpha,\\beta)}_n(x) = g_n^{(\\alpha,\\beta)} P^{(\\alpha,\\beta)}_n(x),\n",
    "    \\label{eq:Qspec}\n",
    "\\end{equation}\n",
    "\n",
    "where $g_n^{(\\alpha,\\beta)}$ is a scaling function and $P^{(\\alpha,\\beta)}_n$ is the regular Jacobi polynomial.\n",
    "\n",
    "The Jacobi polynomials $\\boldsymbol{P}^{(\\alpha,\\beta)}=(P_0^{(\\alpha,\\beta)},P_1^{(\\alpha,\\beta)}, \\ldots)^T$ satisfy\n",
    "\n",
    "\\begin{equation}\n",
    "    x \\boldsymbol{P} = (A^{(\\alpha,\\beta)})^T \\boldsymbol{P},\n",
    "    \\label{eq:xP}\n",
    "\\end{equation}\n",
    "\n",
    "for the tridiagonal matrix $A^{(\\alpha,\\beta)}$\n",
    "\n",
    "\\begin{align}\n",
    "    a^{(\\alpha,\\beta)}_{n-1,n} &= \\frac{2(n+\\alpha)(n+\\beta)}{(2n + \\alpha + \\beta + 1)(2n +\\alpha+\\beta)}, \\notag \\\\\n",
    "    a^{(\\alpha,\\beta)}_{n,n} &= -\\frac{\\alpha^2-\\beta^2}{(2n + \\alpha + \\beta + 2)(2n +\\alpha+\\beta)}, \\\\\n",
    "    a^{(\\alpha,\\beta)}_{n+1,n} &= \\frac{2(n+1)(n+\\alpha+\\beta+1)}{(2n + \\alpha + \\beta + 2)(2n +\\alpha+\\beta+1)}\\notag.\n",
    "\\end{align}\n",
    "\n",
    "The specialized polynomials $\\boldsymbol{Q}^{(\\alpha,\\beta)}=(Q^{(\\alpha,\\beta)}_0, Q^{(\\alpha,\\beta)}_1, \\ldots)^T$ satisfy\n",
    "\n",
    "\\begin{equation}\n",
    "    x \\boldsymbol{Q} = A^T \\boldsymbol{Q},\n",
    "    \\label{eq:xQ}\n",
    "\\end{equation}\n",
    "\n",
    "where $A=(a_{mn})$ and $a_{mn} = (g^{(\\alpha,\\beta)}_m)^{-1} a^{(\\alpha,\\beta)}_{mn} g^{(\\alpha,\\beta)}_n$. We can compute these matrices for pure Jacobi polynomials and specialized polynomials in shenfun."
   ]
  },
  {
   "cell_type": "code",
   "execution_count": 1,
   "id": "d789be46",
   "metadata": {},
   "outputs": [],
   "source": [
    "from shenfun.jacobi.recursions import *"
   ]
  },
  {
   "cell_type": "markdown",
   "id": "0488a77e",
   "metadata": {},
   "source": [
    "Chebyshev polynomials use $g_n=c_n=1/P^{-1/2,-1/2}_n(1)$, which is imported from [recursions.py](https://github.com/spectralDNS/shenfun/blob/master/shenfun/jacobi/recursions.py). The matrix for Chebyshev has only two nonzero diagonals. With $A \\in \\mathbb{R}^{6\\times 6}$"
   ]
  },
  {
   "cell_type": "code",
   "execution_count": 2,
   "id": "5f5daa40",
   "metadata": {},
   "outputs": [],
   "source": [
    "A = pmat(a, 1, -half, -half, 6, 6, cn)"
   ]
  },
  {
   "cell_type": "code",
   "execution_count": 3,
   "id": "1c1d5b5f",
   "metadata": {},
   "outputs": [
    {
     "data": {
      "text/plain": [
       "array([[ 0.0000,  0.5000,  0.0000,  0.0000,  0.0000,  0.0000],\n",
       "       [ 1.0000,  0.0000,  0.5000,  0.0000,  0.0000,  0.0000],\n",
       "       [ 0.0000,  0.5000,  0.0000,  0.5000,  0.0000,  0.0000],\n",
       "       [ 0.0000,  0.0000,  0.5000,  0.0000,  0.5000,  0.0000],\n",
       "       [ 0.0000,  0.0000,  0.0000,  0.5000,  0.0000,  0.5000],\n",
       "       [ 0.0000,  0.0000,  0.0000,  0.0000,  0.5000,  0.0000]])"
      ]
     },
     "execution_count": 3,
     "metadata": {},
     "output_type": "execute_result"
    }
   ],
   "source": [
    "%matplotlib inline\n",
    "np.set_printoptions(formatter={'float': '{: 0.4f}'.format})\n",
    "A.diags().toarray() # Note the array does not render on github"
   ]
  },
  {
   "cell_type": "markdown",
   "id": "a3e1dcfd",
   "metadata": {},
   "source": [
    "Legendre polynomials have $g_n=1$"
   ]
  },
  {
   "cell_type": "code",
   "execution_count": 4,
   "id": "fe84150b",
   "metadata": {},
   "outputs": [
    {
     "data": {
      "text/plain": [
       "array([[ 0.0000,  0.3333,  0.0000,  0.0000,  0.0000,  0.0000],\n",
       "       [ 1.0000,  0.0000,  0.4000,  0.0000,  0.0000,  0.0000],\n",
       "       [ 0.0000,  0.6667,  0.0000,  0.4286,  0.0000,  0.0000],\n",
       "       [ 0.0000,  0.0000,  0.6000,  0.0000,  0.4444,  0.0000],\n",
       "       [ 0.0000,  0.0000,  0.0000,  0.5714,  0.0000,  0.4545],\n",
       "       [ 0.0000,  0.0000,  0.0000,  0.0000,  0.5556,  0.0000]])"
      ]
     },
     "metadata": {},
     "output_type": "display_data"
    }
   ],
   "source": [
    "A = pmat(a, 1, 0, 0, 6, 6)\n",
    "display(A.diags().toarray())"
   ]
  },
  {
   "cell_type": "markdown",
   "id": "7c5b57c0",
   "metadata": {},
   "source": [
    "We can also get the diagonals directly"
   ]
  },
  {
   "cell_type": "code",
   "execution_count": 5,
   "id": "ae545ab3",
   "metadata": {},
   "outputs": [
    {
     "data": {
      "text/latex": [
       "$\\displaystyle \\frac{n}{2 n + 1}$"
      ],
      "text/plain": [
       "n/(2*n + 1)"
      ]
     },
     "execution_count": 5,
     "metadata": {},
     "output_type": "execute_result"
    }
   ],
   "source": [
    "a(0, 0, n-1, n)"
   ]
  },
  {
   "cell_type": "code",
   "execution_count": 6,
   "id": "a40bdc44",
   "metadata": {},
   "outputs": [
    {
     "data": {
      "text/latex": [
       "$\\displaystyle \\frac{n + 1}{2 n + 1}$"
      ],
      "text/plain": [
       "(n + 1)/(2*n + 1)"
      ]
     },
     "execution_count": 6,
     "metadata": {},
     "output_type": "execute_result"
    }
   ],
   "source": [
    "a(0, 0, n+1, n)"
   ]
  },
  {
   "cell_type": "markdown",
   "id": "f5c61a48",
   "metadata": {},
   "source": [
    "Another recursion is\n",
    "\n",
    "\\begin{equation}\n",
    "    \\partial^{k-l} \\boldsymbol{Q} = (B^{l})^T \\partial^k \\boldsymbol{Q},\\label{eq:PBkdP}\n",
    "\\end{equation}\n",
    "\n",
    "We can compute the matrix $B$, and any matrix power $B^l$. For Chebyshev with $l=2$ we get with $B^2 \\in \\mathbb{R}^{6\\times 6}$"
   ]
  },
  {
   "cell_type": "code",
   "execution_count": 7,
   "id": "c9377ab1",
   "metadata": {},
   "outputs": [
    {
     "data": {
      "text/plain": [
       "array([[ 0.0000,  0.0000,  0.0000,  0.0000,  0.0000,  0.0000],\n",
       "       [ 0.0000,  0.0000,  0.0000,  0.0000,  0.0000,  0.0000],\n",
       "       [ 0.2500,  0.0000, -0.1667,  0.0000,  0.0417,  0.0000],\n",
       "       [ 0.0000,  0.0417,  0.0000, -0.0625,  0.0000,  0.0208],\n",
       "       [ 0.0000,  0.0000,  0.0208,  0.0000, -0.0333,  0.0000],\n",
       "       [ 0.0000,  0.0000,  0.0000,  0.0125,  0.0000, -0.0208]])"
      ]
     },
     "metadata": {},
     "output_type": "display_data"
    }
   ],
   "source": [
    "B2 = pmat(b, 2, -half, -half, 6, 6, cn)\n",
    "display(B2.diags().toarray())"
   ]
  },
  {
   "cell_type": "markdown",
   "id": "34b60fbe",
   "metadata": {},
   "source": [
    "Another recursion is\n",
    "\n",
    "\\begin{equation}\n",
    "    x^q \\partial^k \\boldsymbol{P} = (\\underline{A}^q)^T \\partial^k \\boldsymbol{P}, \\label{eq:xdkP}\n",
    "\\end{equation}\n",
    "\n",
    "where $\\underline{A}^{(k,\\alpha,\\beta)} = (\\underline{a}^{(k,\\alpha,\\beta)}_{mn})_{m,n=0}^{\\infty}$  and \n",
    "\n",
    "\\begin{equation}\n",
    "    \\underline{a}^{(k,\\alpha,\\beta)}_{m+k,n+k} = (\\psi^{(k,\\alpha,\\beta)}_{m+k})^{-1} a_{mn}^{(\\alpha+k,\\beta+k)} \\psi^{(k,\\alpha,\\beta)}_{n+k}, \\quad \\forall \\, m,n \\ge 0. \\label{eq:amn}\n",
    "\\end{equation}\n",
    "\n",
    "where\n",
    "\n",
    "\\begin{equation}\n",
    "    \\psi_{n}^{(k,\\alpha, \\beta)} = \\frac{(n+\\alpha+\\beta+1)_k}{2^{k}},\n",
    "    \\label{eq:psin}\n",
    "\\end{equation}\n",
    "\n",
    "using the Pochhammer symbol $(\\alpha)_k=\\Gamma(\\alpha+k)/\\Gamma(\\alpha)$.\n",
    "\n",
    "$\\underline{A}^q$ is simply the $q$'th matrix power. To get this matrix in shenfun do (for Chebyshev)"
   ]
  },
  {
   "cell_type": "code",
   "execution_count": 15,
   "id": "f056d8ba",
   "metadata": {},
   "outputs": [
    {
     "data": {
      "text/plain": [
       "array([[ 0.0000,  0.0000,  0.0000,  0.0000,  0.0000,  0.0000],\n",
       "       [ 0.0000,  0.0000,  0.0000,  0.0000,  0.0000,  0.0000],\n",
       "       [ 0.0000,  0.0000,  0.0000,  1.0000,  0.0000,  0.0000],\n",
       "       [ 0.0000,  0.0000,  0.1667,  0.0000,  0.8333,  0.0000],\n",
       "       [ 0.0000,  0.0000,  0.0000,  0.2500,  0.0000,  0.7500],\n",
       "       [ 0.0000,  0.0000,  0.0000,  0.0000,  0.3000,  0.0000]])"
      ]
     },
     "execution_count": 15,
     "metadata": {},
     "output_type": "execute_result"
    }
   ],
   "source": [
    "k, q = 2, 1\n",
    "A = a_mat(a_, k, q, -half, -half, 6, 6, cn)\n",
    "A.diags().toarray()"
   ]
  },
  {
   "cell_type": "markdown",
   "id": "01559819",
   "metadata": {},
   "source": [
    "Note that the first two rown and columns are zero."
   ]
  },
  {
   "cell_type": "markdown",
   "id": "0d65102c",
   "metadata": {},
   "source": [
    "A main result in the paper is that for test and trial functions $v$ and $u$ (see Sec 4.1.2) we have\n",
    "\n",
    "\\begin{equation}\n",
    "%(\\partial^k u, x^q v)_{\\omega} &= \\left(X^{(k,q,0)}\\right)^T K^T \\boldsymbol{\\hat{u}},\\\\\n",
    "    (\\partial^{k-l} u, x^q v)_{\\omega} = L^{(k,q,l)} K^T \\boldsymbol{\\hat{u}}, \\label{eq:varmatrix1}\n",
    "\\end{equation}\n",
    "\n",
    "where $K$ is a stencil matrix and $\\boldsymbol{\\hat{u}}$ is the vector of unknown expansion coefficients for the solution. The matrix $L^{(k,q,l)}$ can be computed explicitly for any orthogonal basis. For Chebyshev we get"
   ]
  },
  {
   "cell_type": "code",
   "execution_count": 9,
   "id": "73b0c3fc",
   "metadata": {
    "scrolled": true
   },
   "outputs": [
    {
     "data": {
      "text/plain": [
       "<matplotlib.lines.Line2D at 0x1a6051a80>"
      ]
     },
     "execution_count": 9,
     "metadata": {},
     "output_type": "execute_result"
    },
    {
     "data": {
      "image/png": "[encoded data removed]",
      "text/plain": [
       "<Figure size 432x288 with 1 Axes>"
      ]
     },
     "metadata": {
      "needs_background": "light"
     },
     "output_type": "display_data"
    }
   ],
   "source": [
    "import matplotlib.pyplot as plt\n",
    "k, q, l = 2, 2, 0\n",
    "L = Lmat(k, q, l, 40, 40, -half, -half, cn)\n",
    "plt.spy(L, ms=1)"
   ]
  }
 ],
 "metadata": {
  "kernelspec": {
   "display_name": "shenfun",
   "language": "python",
   "name": "shenfun"
  },
  "language_info": {
   "codemirror_mode": {
    "name": "ipython",
    "version": 3
   },
   "file_extension": ".py",
   "mimetype": "text/x-python",
   "name": "python",
   "nbconvert_exporter": "python",
   "pygments_lexer": "ipython3",
   "version": "3.10.2"
  },
  "toc": {
   "base_numbering": 1,
   "nav_menu": {},
   "number_sections": false,
   "sideBar": true,
   "skip_h1_title": false,
   "title_cell": "Table of Contents",
   "title_sidebar": "Contents",
   "toc_cell": false,
   "toc_position": {},
   "toc_section_display": true,
   "toc_window_display": false
  }
 },
 "nbformat": 4,
 "nbformat_minor": 5
}
