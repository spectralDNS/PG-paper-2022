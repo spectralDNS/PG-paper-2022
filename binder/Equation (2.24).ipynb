{
 "cells": [
  {
   "cell_type": "markdown",
   "id": "698fc92d",
   "metadata": {},
   "source": [
    "# Eq. (2.24)\n",
    "\n",
    "We state that\n",
    "\n",
    "\\begin{equation}\n",
    "    h_n^{(k)}\\underline{a}^{(k,q)}_{nm} = h_m^{(k)} \\underline{a}_{mn}^{(k,q)}.\n",
    "\\end{equation}\n",
    "\n",
    "This can be easily shown using shenfun. Import the matrix `a_` (representing $\\underline{a}^{(k,q)}_{ij}$) and normalization factor `h` "
   ]
  },
  {
   "cell_type": "code",
   "execution_count": 5,
   "id": "a245f9bb",
   "metadata": {},
   "outputs": [],
   "source": [
    "import sympy as sp\n",
    "from shenfun.jacobi.recursions import a_, n, alfa, h, m, n\n",
    "k, q = 1, 3"
   ]
  },
  {
   "cell_type": "markdown",
   "id": "f6cae4e2",
   "metadata": {},
   "source": [
    "The matrix $\\underline{A}$ is tridiagonal and as such $\\underline{A}^q$ has bandwidth $1+2q$. It will as such be sufficient to look at the index $m$ being one of $(n-q, n-q+1, \\ldots , n+q-1, n+q)$. Check that all components of $h_n^{(k)}\\underline{a}^{(k,q)}_{nm} - h_m^{(k)} \\underline{a}_{mn}^{(k,q)}$ are identically zero. Since this takes a bit of time (Sympy.simplify is pretty slow), we can use $\\alpha=\\beta$ to speed up. But the results hold also for Jacobi polynomials in general."
   ]
  },
  {
   "cell_type": "code",
   "execution_count": 6,
   "id": "38b07431",
   "metadata": {},
   "outputs": [
    {
     "name": "stdout",
     "output_type": "stream",
     "text": [
      "m = n-3, dh = 0\n",
      "m = n-2, dh = 0\n",
      "m = n-1, dh = 0\n",
      "m = n+0, dh = 0\n",
      "m = n+1, dh = 0\n",
      "m = n+2, dh = 0\n",
      "m = n+3, dh = 0\n"
     ]
    }
   ],
   "source": [
    "beta = alfa\n",
    "for i in range(-q, q+1):\n",
    "    m = n+i\n",
    "    dh = h(alfa, beta, n, k)*a_(k, q, alfa, beta, n, m) - h(alfa, beta, m, k)*a_(k, q, alfa, beta, m, n)\n",
    "    print(\"m = n{0:+}, dh =\".format(i), sp.simplify(dh))"
   ]
  }
 ],
 "metadata": {
  "kernelspec": {
   "display_name": "shenfun",
   "language": "python",
   "name": "shenfun"
  },
  "language_info": {
   "codemirror_mode": {
    "name": "ipython",
    "version": 3
   },
   "file_extension": ".py",
   "mimetype": "text/x-python",
   "name": "python",
   "nbconvert_exporter": "python",
   "pygments_lexer": "ipython3",
   "version": "3.10.2"
  },
  "toc": {
   "base_numbering": 1,
   "nav_menu": {},
   "number_sections": false,
   "sideBar": true,
   "skip_h1_title": false,
   "title_cell": "Table of Contents",
   "title_sidebar": "Contents",
   "toc_cell": false,
   "toc_position": {},
   "toc_section_display": true,
   "toc_window_display": false
  }
 },
 "nbformat": 4,
 "nbformat_minor": 5
}
